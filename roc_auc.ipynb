{
  "nbformat": 4,
  "nbformat_minor": 0,
  "metadata": {
    "colab": {
      "name": "roc_auc.ipynb",
      "provenance": []
    },
    "kernelspec": {
      "name": "python3",
      "display_name": "Python 3"
    },
    "language_info": {
      "name": "python"
    }
  },
  "cells": [
    {
      "cell_type": "code",
      "metadata": {
        "id": "oqCzzTRJLwCO"
      },
      "source": [
        "from sklearn.datasets import make_classification\n",
        "import numpy as np"
      ],
      "execution_count": 40,
      "outputs": []
    },
    {
      "cell_type": "code",
      "metadata": {
        "id": "SSinccZaL3xM"
      },
      "source": [
        "X,Y=make_classification(n_samples=2000,n_classes=2,n_features=10,random_state=0)"
      ],
      "execution_count": 41,
      "outputs": []
    },
    {
      "cell_type": "code",
      "metadata": {
        "id": "SEbiS40zMCEx"
      },
      "source": [
        "random_state=np.random.RandomState(0)\n",
        "n_samples,n_features=X.shape\n",
        "X=np.c_[X,random_state.randn(n_samples,200 * n_features)]"
      ],
      "execution_count": 42,
      "outputs": []
    },
    {
      "cell_type": "code",
      "metadata": {
        "id": "tXF7CROFMQJZ"
      },
      "source": [
        "from sklearn.model_selection import train_test_split"
      ],
      "execution_count": 43,
      "outputs": []
    },
    {
      "cell_type": "code",
      "metadata": {
        "id": "iMhphEKFMTQJ"
      },
      "source": [
        "X_train,X_test,Y_train,Y_test=train_test_split(X,Y,test_size=0.2,random_state=0)"
      ],
      "execution_count": 44,
      "outputs": []
    },
    {
      "cell_type": "code",
      "metadata": {
        "id": "oS25ryaZMdEI"
      },
      "source": [
        "from sklearn.ensemble import RandomForestClassifier\n",
        "from sklearn.naive_bayes import GaussianNB"
      ],
      "execution_count": 45,
      "outputs": []
    },
    {
      "cell_type": "code",
      "metadata": {
        "id": "9iTbX13uT--i"
      },
      "source": [
        "from sklearn import svm"
      ],
      "execution_count": 46,
      "outputs": []
    },
    {
      "cell_type": "code",
      "metadata": {
        "colab": {
          "base_uri": "https://localhost:8080/"
        },
        "id": "97l69RTsUBCR",
        "outputId": "149a76ce-13f0-4ef6-c87d-f0fec997c1ef"
      },
      "source": [
        "clf=svm.SVC(kernel='linear',probability=True)\n",
        "clf.fit(X_train,Y_train)\n"
      ],
      "execution_count": 36,
      "outputs": [
        {
          "output_type": "execute_result",
          "data": {
            "text/plain": [
              "SVC(C=1.0, break_ties=False, cache_size=200, class_weight=None, coef0=0.0,\n",
              "    decision_function_shape='ovr', degree=3, gamma='scale', kernel='linear',\n",
              "    max_iter=-1, probability=True, random_state=None, shrinking=True, tol=0.001,\n",
              "    verbose=False)"
            ]
          },
          "metadata": {
            "tags": []
          },
          "execution_count": 36
        }
      ]
    },
    {
      "cell_type": "code",
      "metadata": {
        "colab": {
          "base_uri": "https://localhost:8080/"
        },
        "id": "6HTnZoA4MrRp",
        "outputId": "3fe31e9a-299c-4714-e6ca-9583112b6594"
      },
      "source": [
        "rf=RandomForestClassifier(max_features=5,n_estimators=500)\n",
        "rf.fit(X_train,Y_train)"
      ],
      "execution_count": 37,
      "outputs": [
        {
          "output_type": "execute_result",
          "data": {
            "text/plain": [
              "RandomForestClassifier(bootstrap=True, ccp_alpha=0.0, class_weight=None,\n",
              "                       criterion='gini', max_depth=None, max_features=5,\n",
              "                       max_leaf_nodes=None, max_samples=None,\n",
              "                       min_impurity_decrease=0.0, min_impurity_split=None,\n",
              "                       min_samples_leaf=1, min_samples_split=2,\n",
              "                       min_weight_fraction_leaf=0.0, n_estimators=500,\n",
              "                       n_jobs=None, oob_score=False, random_state=None,\n",
              "                       verbose=0, warm_start=False)"
            ]
          },
          "metadata": {
            "tags": []
          },
          "execution_count": 37
        }
      ]
    },
    {
      "cell_type": "code",
      "metadata": {
        "colab": {
          "base_uri": "https://localhost:8080/"
        },
        "id": "NVHsThWoMyro",
        "outputId": "1384c607-30f6-4142-92dc-53c8faf8e679"
      },
      "source": [
        "nb=GaussianNB()\n",
        "nb.fit(X_train,Y_train)"
      ],
      "execution_count": 38,
      "outputs": [
        {
          "output_type": "execute_result",
          "data": {
            "text/plain": [
              "GaussianNB(priors=None, var_smoothing=1e-09)"
            ]
          },
          "metadata": {
            "tags": []
          },
          "execution_count": 38
        }
      ]
    },
    {
      "cell_type": "code",
      "metadata": {
        "id": "EU_z1r39M37s"
      },
      "source": [
        "r_probs=[0 for _ in range(len(Y_test))]\n",
        "rf_probs=rf.predict_proba(X_test)\n",
        "nb_probs=nb.predict_proba(X_test)\n",
        "clf_probs=clf.predict_proba(X_test)"
      ],
      "execution_count": 39,
      "outputs": []
    },
    {
      "cell_type": "code",
      "metadata": {
        "id": "VYyMM9r6M6MI"
      },
      "source": [
        "rf_probs=rf_probs[:,-1]\n",
        "nb_probs=nb_probs[:,-1]\n",
        "clf_probs=clf_probs[:,-1]"
      ],
      "execution_count": 47,
      "outputs": []
    },
    {
      "cell_type": "code",
      "metadata": {
        "id": "c7Sd7-vqNSuZ"
      },
      "source": [
        "from sklearn.metrics import roc_curve,roc_auc_score"
      ],
      "execution_count": 48,
      "outputs": []
    },
    {
      "cell_type": "code",
      "metadata": {
        "id": "SCF58iOmNcZJ"
      },
      "source": [
        "r_auc=roc_auc_score(Y_test,r_probs)\n",
        "rf_auc=roc_auc_score(Y_test,rf_probs)\n",
        "nb_auc=roc_auc_score(Y_test,nb_probs)\n",
        "clf_auc=roc_auc_score(Y_test,clf_probs)\n"
      ],
      "execution_count": 50,
      "outputs": []
    },
    {
      "cell_type": "code",
      "metadata": {
        "colab": {
          "base_uri": "https://localhost:8080/"
        },
        "id": "SP3vz3ICOGf4",
        "outputId": "8396b1af-676b-4cf5-c3aa-89b859ac59aa"
      },
      "source": [
        "print('Random (Chance) Prediction: AUROC= ',r_auc)\n",
        "print('Random Forest: AUROC= ',rf_auc)\n",
        "print('Naive Bayes: AUROC= ',nb_auc)\n",
        "print('Support Vector Machines: AUROC= ',clf_auc)"
      ],
      "execution_count": 51,
      "outputs": [
        {
          "output_type": "stream",
          "text": [
            "Random (Chance) Prediction: AUROC=  0.5\n",
            "Random Forest: AUROC=  0.914532802683287\n",
            "Naive Bayes: AUROC=  0.9932417211083577\n",
            "Support Vector Machines: AUROC=  0.9359715651673299\n"
          ],
          "name": "stdout"
        }
      ]
    },
    {
      "cell_type": "code",
      "metadata": {
        "id": "O3_-KfW5Oca4"
      },
      "source": [
        "r_fpr,r_tpr,_= roc_curve(Y_test,r_probs)\n",
        "rf_fpr,rf_tpr,_=roc_curve(Y_test,rf_probs)\n",
        "nb_fpr,nb_tpr,_=roc_curve(Y_test,nb_probs)\n",
        "clf_fpr,clf_tpr,_=roc_curve(Y_test,clf_probs)"
      ],
      "execution_count": 52,
      "outputs": []
    },
    {
      "cell_type": "code",
      "metadata": {
        "id": "3aor2L-nO5ry"
      },
      "source": [
        "import matplotlib.pyplot as plt\n"
      ],
      "execution_count": 53,
      "outputs": []
    },
    {
      "cell_type": "code",
      "metadata": {
        "colab": {
          "base_uri": "https://localhost:8080/",
          "height": 530
        },
        "id": "bzZADhSwO7SY",
        "outputId": "a394b9aa-51e1-4a4d-f943-d6351fcfaac8"
      },
      "source": [
        "plt.figure(figsize=(14,8))\n",
        "plt.plot(r_fpr,r_tpr,linestyle='--',label='Random Prediction (AUROC = {})'.format(r_auc))\n",
        "plt.plot(rf_fpr,rf_tpr,marker='.',label='Random Forest (AUROC = {})'.format(rf_auc))\n",
        "plt.plot(nb_fpr,nb_tpr,marker='.',label='Naive Bayes (AUROC = {})'.format(nb_auc))\n",
        "plt.plot(clf_fpr,clf_tpr,marker='.',label='Support Vector Machines (AUROC = {})'.format(clf_auc))\n",
        "\n",
        "\n",
        "\n",
        "plt.title('ROC Plot')\n",
        "\n",
        "plt.xlabel('False Positive Rate')\n",
        "plt.ylabel('True Positive Rate')\n",
        "plt.legend()\n"
      ],
      "execution_count": 54,
      "outputs": [
        {
          "output_type": "execute_result",
          "data": {
            "text/plain": [
              "<matplotlib.legend.Legend at 0x7f85c0f4f210>"
            ]
          },
          "metadata": {
            "tags": []
          },
          "execution_count": 54
        },
        {
          "output_type": "display_data",
          "data": {
            "image/png": "[encoded data removed]",
            "text/plain": [
              "<Figure size 1008x576 with 1 Axes>"
            ]
          },
          "metadata": {
            "tags": [],
            "needs_background": "light"
          }
        }
      ]
    },
    {
      "cell_type": "code",
      "metadata": {
        "id": "Rva9c5CxPjv7"
      },
      "source": [
        ""
      ],
      "execution_count": null,
      "outputs": []
    }
  ]
}